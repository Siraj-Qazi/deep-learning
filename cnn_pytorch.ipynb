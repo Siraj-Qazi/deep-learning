{
  "nbformat": 4,
  "nbformat_minor": 0,
  "metadata": {
    "colab": {
      "name": "cnn_pytorch.ipynb",
      "provenance": []
    },
    "kernelspec": {
      "name": "python3",
      "display_name": "Python 3"
    },
    "accelerator": "GPU"
  },
  "cells": [
    {
      "cell_type": "code",
      "metadata": {
        "id": "5oAanlZPBVOR",
        "colab_type": "code",
        "colab": {}
      },
      "source": [
        "# Imports\n",
        "import torch\n",
        "import torch.nn as nn\n",
        "from torch.autograd import Variable\n",
        "import torchvision.datasets as datasets\n",
        "import torchvision.transforms as transforms"
      ],
      "execution_count": 0,
      "outputs": []
    },
    {
      "cell_type": "code",
      "metadata": {
        "id": "3f6A8zRgBrWt",
        "colab_type": "code",
        "colab": {
          "base_uri": "https://localhost:8080/",
          "height": 272
        },
        "outputId": "8d34a538-ce1d-4bfc-f940-1d6adff73bab"
      },
      "source": [
        "# Loading training set and test set\n",
        "training_set = datasets.MNIST('./data',\n",
        "                              train=True,\n",
        "                              transform=transforms.ToTensor(),\n",
        "                              download=True)\n",
        "\n",
        "test_set = datasets.MNIST('./data',\n",
        "                          train=False,\n",
        "                          transform=transforms.ToTensor(),\n",
        "                          download=True)"
      ],
      "execution_count": 2,
      "outputs": [
        {
          "output_type": "stream",
          "text": [
            "  0%|          | 0/9912422 [00:00<?, ?it/s]"
          ],
          "name": "stderr"
        },
        {
          "output_type": "stream",
          "text": [
            "Downloading http://yann.lecun.com/exdb/mnist/train-images-idx3-ubyte.gz to ./data/MNIST/raw/train-images-idx3-ubyte.gz\n"
          ],
          "name": "stdout"
        },
        {
          "output_type": "stream",
          "text": [
            "9920512it [00:00, 20350437.02it/s]                            \n"
          ],
          "name": "stderr"
        },
        {
          "output_type": "stream",
          "text": [
            "Extracting ./data/MNIST/raw/train-images-idx3-ubyte.gz to ./data/MNIST/raw\n"
          ],
          "name": "stdout"
        },
        {
          "output_type": "stream",
          "text": [
            "32768it [00:00, 307729.92it/s]                           \n",
            "0it [00:00, ?it/s]"
          ],
          "name": "stderr"
        },
        {
          "output_type": "stream",
          "text": [
            "Downloading http://yann.lecun.com/exdb/mnist/train-labels-idx1-ubyte.gz to ./data/MNIST/raw/train-labels-idx1-ubyte.gz\n",
            "Extracting ./data/MNIST/raw/train-labels-idx1-ubyte.gz to ./data/MNIST/raw\n",
            "Downloading http://yann.lecun.com/exdb/mnist/t10k-images-idx3-ubyte.gz to ./data/MNIST/raw/t10k-images-idx3-ubyte.gz\n"
          ],
          "name": "stdout"
        },
        {
          "output_type": "stream",
          "text": [
            "1654784it [00:00, 4984421.34it/s]                           \n",
            "8192it [00:00, 128527.38it/s]\n"
          ],
          "name": "stderr"
        },
        {
          "output_type": "stream",
          "text": [
            "Extracting ./data/MNIST/raw/t10k-images-idx3-ubyte.gz to ./data/MNIST/raw\n",
            "Downloading http://yann.lecun.com/exdb/mnist/t10k-labels-idx1-ubyte.gz to ./data/MNIST/raw/t10k-labels-idx1-ubyte.gz\n",
            "Extracting ./data/MNIST/raw/t10k-labels-idx1-ubyte.gz to ./data/MNIST/raw\n",
            "Processing...\n",
            "Done!\n"
          ],
          "name": "stdout"
        }
      ]
    },
    {
      "cell_type": "code",
      "metadata": {
        "id": "gIUjQX__Bwul",
        "colab_type": "code",
        "colab": {}
      },
      "source": [
        "# Setting hyperparameters\n",
        "learning_rate = 0.01\n",
        "batch_size = 100\n",
        "iterations = 4000  # Achieves 92+ test accuracy\n",
        "epochs = int(iterations / (len(training_set) / batch_size))"
      ],
      "execution_count": 0,
      "outputs": []
    },
    {
      "cell_type": "code",
      "metadata": {
        "id": "ZgQuUdFbBz72",
        "colab_type": "code",
        "colab": {}
      },
      "source": [
        "# Making train and test loaders (making dataset iterable)\n",
        "training_loader = torch.utils.data.DataLoader(dataset=training_set,\n",
        "                                              batch_size=batch_size,\n",
        "                                              shuffle=True)\n",
        "\n",
        "test_loader = torch.utils.data.DataLoader(dataset=test_set,\n",
        "                                          batch_size=batch_size,\n",
        "                                          shuffle=False)"
      ],
      "execution_count": 0,
      "outputs": []
    },
    {
      "cell_type": "code",
      "metadata": {
        "id": "IAX7Z-cIB3IO",
        "colab_type": "code",
        "colab": {}
      },
      "source": [
        "# Creating convolutional neural network model class\n",
        "class ConvolutionalNeuralNetwork(nn.Module):\n",
        "    def __init__(self):\n",
        "        super(ConvolutionalNeuralNetwork, self).__init__()\n",
        "\n",
        "        # Convolution 1: Input 28x28x1, Filter 9x9x32 (same pad), Output 28x28x32\n",
        "        self.conv1 = nn.Conv2d(in_channels=1, out_channels=32, kernel_size=9, stride=1, padding=4, bias=True)\n",
        "        self.relu1 = nn.ReLU();\n",
        "        self.maxp1 = nn.MaxPool2d(2, 2)  # Output 14x14x32\n",
        "\n",
        "        # Convolution 2: Input 14x14x32, Filter 7x7x64 (same pad), Output 14x14x64\n",
        "        self.conv2 = nn.Conv2d(32, 64, 7, 1, 3, bias=True)\n",
        "        self.relu2 = nn.ReLU();\n",
        "        self.maxp2 = nn.MaxPool2d(2, 2)  # Output 7x7x64\n",
        "\n",
        "        # Convolution 3: Input 7x7x64, Filter 3x3x128 (same pad), Output 7x7x128\n",
        "        self.conv3 = nn.Conv2d(64, 128, 5, 1, 2, bias=True)\n",
        "        self.relu3 = nn.ReLU();\n",
        "        self.maxp3 = nn.MaxPool2d(2, 2)  # Output 3x3x128\n",
        "\n",
        "        # Fully-connected layer 1: 768x512 (3x3x128 = 768)\n",
        "        self.linear1 = nn.Linear(128 * 3 * 3, 512)\n",
        "        self.relu4 = nn.ReLU()\n",
        "\n",
        "        # Fully-connected layer 2: 512x10\n",
        "        self.linear2 = nn.Linear(512, 10)\n",
        "\n",
        "    def forward(self, x):\n",
        "        # Conv1\n",
        "        out = self.conv1(x)\n",
        "        out = self.relu1(out)\n",
        "        out = self.maxp1(out)\n",
        "\n",
        "        # Conv2\n",
        "        out = self.conv2(out)\n",
        "        out = self.relu2(out)\n",
        "        out = self.maxp2(out)\n",
        "\n",
        "        # Conv3\n",
        "        out = self.conv3(out)\n",
        "        out = self.relu3(out)\n",
        "        out = self.maxp3(out)\n",
        "\n",
        "        # Flattening the output\n",
        "        out = out.view(-1, 3 * 3 * 128)\n",
        "\n",
        "        # FC1\n",
        "        out = self.linear1(out)\n",
        "        out = self.relu4(out)\n",
        "\n",
        "        # FC2\n",
        "        out = self.linear2(out)\n",
        "\n",
        "        return out"
      ],
      "execution_count": 0,
      "outputs": []
    },
    {
      "cell_type": "code",
      "metadata": {
        "id": "Y5sloZJlB92S",
        "colab_type": "code",
        "colab": {
          "base_uri": "https://localhost:8080/",
          "height": 34
        },
        "outputId": "a75483c8-acac-45ef-e6d4-b831541047f3"
      },
      "source": [
        "# Instantiating the model\n",
        "model = ConvolutionalNeuralNetwork()\n",
        "\n",
        "if torch.cuda.is_available():\n",
        "  model.cuda()\n",
        "  print('All set on GPU!')"
      ],
      "execution_count": 7,
      "outputs": [
        {
          "output_type": "stream",
          "text": [
            "All set on GPU!\n"
          ],
          "name": "stdout"
        }
      ]
    },
    {
      "cell_type": "code",
      "metadata": {
        "id": "OsPAm7slCiO6",
        "colab_type": "code",
        "colab": {}
      },
      "source": [
        "# Using cross-entropy loss\n",
        "criterion = nn.CrossEntropyLoss()\n",
        "\n",
        "# Using stochastic gradient descent as optimizer\n",
        "optimizer = torch.optim.SGD(model.parameters(), learning_rate)\n"
      ],
      "execution_count": 0,
      "outputs": []
    },
    {
      "cell_type": "code",
      "metadata": {
        "id": "2_7hVm6QCmkE",
        "colab_type": "code",
        "colab": {
          "base_uri": "https://localhost:8080/",
          "height": 151
        },
        "outputId": "1a33aa70-69d2-4f69-f7b5-aa4a21ceb8af"
      },
      "source": [
        "# Training loop\n",
        "iter = 1\n",
        "print('Now training...')\n",
        "for epoch in range(epochs):\n",
        "    for i, (images, labels) in enumerate(training_loader):\n",
        "\n",
        "        # Convert data to Pytorch Variables\n",
        "        images = Variable(images.cuda())\n",
        "        labels = Variable(labels.cuda())\n",
        "\n",
        "        # Clear (previous) gradients\n",
        "        optimizer.zero_grad()\n",
        "\n",
        "        # Forward pass through the model\n",
        "        output = model(images)\n",
        "\n",
        "        # Calculate loss\n",
        "        loss = criterion(output, labels)\n",
        "\n",
        "        # Calculate gradients from the loss\n",
        "        loss.backward()\n",
        "\n",
        "        # Update model's paramters\n",
        "        optimizer.step()\n",
        "\n",
        "        iter += 1\n",
        "\n",
        "        if iter % 500 == 0:\n",
        "            # Calculate Accuracy\n",
        "            correct = 0\n",
        "            total = 0\n",
        "            # Iterate through test dataset\n",
        "            for images, labels in test_loader:\n",
        "                images = Variable(images.cuda())\n",
        "\n",
        "                # Forward pass to get output\n",
        "                outputs = model(images)\n",
        "\n",
        "                # Get predictions from the maximum value\n",
        "                _, predicted = torch.max(outputs.data, 1)\n",
        "\n",
        "                # Total number of labels\n",
        "                total += labels.size(0)\n",
        "\n",
        "                # Total correct predictions\n",
        "                correct += (predicted.cpu() == labels.cpu()).sum()\n",
        "\n",
        "            accuracy = 100 * correct / total\n",
        "\n",
        "            # Print Loss\n",
        "            print('Iteration: {}. Loss: {}. Accuracy: {}'.format(iter, loss.data, accuracy))"
      ],
      "execution_count": 14,
      "outputs": [
        {
          "output_type": "stream",
          "text": [
            "Now training...\n",
            "Iteration: 500. Loss: 0.05022696033120155. Accuracy: 98\n",
            "Iteration: 1000. Loss: 0.06893280893564224. Accuracy: 98\n",
            "Iteration: 1500. Loss: 0.054727524518966675. Accuracy: 98\n",
            "Iteration: 2000. Loss: 0.02707129903137684. Accuracy: 98\n",
            "Iteration: 2500. Loss: 0.01298839133232832. Accuracy: 98\n",
            "Iteration: 3000. Loss: 0.06773167103528976. Accuracy: 98\n",
            "Iteration: 3500. Loss: 0.018859662115573883. Accuracy: 98\n"
          ],
          "name": "stdout"
        }
      ]
    },
    {
      "cell_type": "code",
      "metadata": {
        "id": "QZaIRZrNEP9L",
        "colab_type": "code",
        "colab": {
          "base_uri": "https://localhost:8080/",
          "height": 1000
        },
        "outputId": "55a0c183-157d-4534-d87f-e5bcda9e8499"
      },
      "source": [
        "# Testing the model\n",
        "print('Testing model...')\n",
        "for i, (images, labels) in enumerate(test_loader):\n",
        "    images = Variable(images.cuda())\n",
        "\n",
        "    # Forward pass to get output\n",
        "    outputs = model(images)\n",
        "\n",
        "    # Get predictions from the maximum value\n",
        "    _, predicted = torch.max(outputs.data, 1)\n",
        "\n",
        "    print('Prediction: ', end='')\n",
        "    print(predicted[0], end=' ')\n",
        "    print('Label for Image %d : ' % i, end='')\n",
        "    print(labels[0])"
      ],
      "execution_count": 15,
      "outputs": [
        {
          "output_type": "stream",
          "text": [
            "Testing model...\n",
            "Prediction: tensor(7, device='cuda:0') Label for Image 0 : tensor(7)\n",
            "Prediction: tensor(6, device='cuda:0') Label for Image 1 : tensor(6)\n",
            "Prediction: tensor(3, device='cuda:0') Label for Image 2 : tensor(3)\n",
            "Prediction: tensor(4, device='cuda:0') Label for Image 3 : tensor(4)\n",
            "Prediction: tensor(2, device='cuda:0') Label for Image 4 : tensor(2)\n",
            "Prediction: tensor(3, device='cuda:0') Label for Image 5 : tensor(3)\n",
            "Prediction: tensor(6, device='cuda:0') Label for Image 6 : tensor(6)\n",
            "Prediction: tensor(1, device='cuda:0') Label for Image 7 : tensor(1)\n",
            "Prediction: tensor(8, device='cuda:0') Label for Image 8 : tensor(8)\n",
            "Prediction: tensor(1, device='cuda:0') Label for Image 9 : tensor(1)\n",
            "Prediction: tensor(9, device='cuda:0') Label for Image 10 : tensor(9)\n",
            "Prediction: tensor(7, device='cuda:0') Label for Image 11 : tensor(7)\n",
            "Prediction: tensor(8, device='cuda:0') Label for Image 12 : tensor(8)\n",
            "Prediction: tensor(4, device='cuda:0') Label for Image 13 : tensor(4)\n",
            "Prediction: tensor(6, device='cuda:0') Label for Image 14 : tensor(6)\n",
            "Prediction: tensor(7, device='cuda:0') Label for Image 15 : tensor(7)\n",
            "Prediction: tensor(3, device='cuda:0') Label for Image 16 : tensor(3)\n",
            "Prediction: tensor(0, device='cuda:0') Label for Image 17 : tensor(0)\n",
            "Prediction: tensor(6, device='cuda:0') Label for Image 18 : tensor(6)\n",
            "Prediction: tensor(1, device='cuda:0') Label for Image 19 : tensor(1)\n",
            "Prediction: tensor(6, device='cuda:0') Label for Image 20 : tensor(6)\n",
            "Prediction: tensor(5, device='cuda:0') Label for Image 21 : tensor(5)\n",
            "Prediction: tensor(2, device='cuda:0') Label for Image 22 : tensor(2)\n",
            "Prediction: tensor(3, device='cuda:0') Label for Image 23 : tensor(3)\n",
            "Prediction: tensor(5, device='cuda:0') Label for Image 24 : tensor(5)\n",
            "Prediction: tensor(2, device='cuda:0') Label for Image 25 : tensor(2)\n",
            "Prediction: tensor(8, device='cuda:0') Label for Image 26 : tensor(8)\n",
            "Prediction: tensor(7, device='cuda:0') Label for Image 27 : tensor(7)\n",
            "Prediction: tensor(8, device='cuda:0') Label for Image 28 : tensor(8)\n",
            "Prediction: tensor(4, device='cuda:0') Label for Image 29 : tensor(4)\n",
            "Prediction: tensor(6, device='cuda:0') Label for Image 30 : tensor(6)\n",
            "Prediction: tensor(5, device='cuda:0') Label for Image 31 : tensor(5)\n",
            "Prediction: tensor(9, device='cuda:0') Label for Image 32 : tensor(9)\n",
            "Prediction: tensor(3, device='cuda:0') Label for Image 33 : tensor(3)\n",
            "Prediction: tensor(7, device='cuda:0') Label for Image 34 : tensor(7)\n",
            "Prediction: tensor(4, device='cuda:0') Label for Image 35 : tensor(4)\n",
            "Prediction: tensor(2, device='cuda:0') Label for Image 36 : tensor(2)\n",
            "Prediction: tensor(4, device='cuda:0') Label for Image 37 : tensor(4)\n",
            "Prediction: tensor(6, device='cuda:0') Label for Image 38 : tensor(6)\n",
            "Prediction: tensor(1, device='cuda:0') Label for Image 39 : tensor(1)\n",
            "Prediction: tensor(9, device='cuda:0') Label for Image 40 : tensor(9)\n",
            "Prediction: tensor(2, device='cuda:0') Label for Image 41 : tensor(2)\n",
            "Prediction: tensor(7, device='cuda:0') Label for Image 42 : tensor(7)\n",
            "Prediction: tensor(5, device='cuda:0') Label for Image 43 : tensor(5)\n",
            "Prediction: tensor(7, device='cuda:0') Label for Image 44 : tensor(7)\n",
            "Prediction: tensor(9, device='cuda:0') Label for Image 45 : tensor(9)\n",
            "Prediction: tensor(3, device='cuda:0') Label for Image 46 : tensor(3)\n",
            "Prediction: tensor(9, device='cuda:0') Label for Image 47 : tensor(9)\n",
            "Prediction: tensor(7, device='cuda:0') Label for Image 48 : tensor(7)\n",
            "Prediction: tensor(7, device='cuda:0') Label for Image 49 : tensor(7)\n",
            "Prediction: tensor(3, device='cuda:0') Label for Image 50 : tensor(3)\n",
            "Prediction: tensor(9, device='cuda:0') Label for Image 51 : tensor(9)\n",
            "Prediction: tensor(4, device='cuda:0') Label for Image 52 : tensor(4)\n",
            "Prediction: tensor(8, device='cuda:0') Label for Image 53 : tensor(8)\n",
            "Prediction: tensor(5, device='cuda:0') Label for Image 54 : tensor(5)\n",
            "Prediction: tensor(4, device='cuda:0') Label for Image 55 : tensor(4)\n",
            "Prediction: tensor(9, device='cuda:0') Label for Image 56 : tensor(7)\n",
            "Prediction: tensor(3, device='cuda:0') Label for Image 57 : tensor(3)\n",
            "Prediction: tensor(9, device='cuda:0') Label for Image 58 : tensor(9)\n",
            "Prediction: tensor(4, device='cuda:0') Label for Image 59 : tensor(4)\n",
            "Prediction: tensor(9, device='cuda:0') Label for Image 60 : tensor(9)\n",
            "Prediction: tensor(4, device='cuda:0') Label for Image 61 : tensor(4)\n",
            "Prediction: tensor(9, device='cuda:0') Label for Image 62 : tensor(9)\n",
            "Prediction: tensor(4, device='cuda:0') Label for Image 63 : tensor(4)\n",
            "Prediction: tensor(0, device='cuda:0') Label for Image 64 : tensor(0)\n",
            "Prediction: tensor(5, device='cuda:0') Label for Image 65 : tensor(5)\n",
            "Prediction: tensor(5, device='cuda:0') Label for Image 66 : tensor(5)\n",
            "Prediction: tensor(4, device='cuda:0') Label for Image 67 : tensor(4)\n",
            "Prediction: tensor(2, device='cuda:0') Label for Image 68 : tensor(2)\n",
            "Prediction: tensor(6, device='cuda:0') Label for Image 69 : tensor(6)\n",
            "Prediction: tensor(1, device='cuda:0') Label for Image 70 : tensor(1)\n",
            "Prediction: tensor(2, device='cuda:0') Label for Image 71 : tensor(2)\n",
            "Prediction: tensor(8, device='cuda:0') Label for Image 72 : tensor(8)\n",
            "Prediction: tensor(7, device='cuda:0') Label for Image 73 : tensor(7)\n",
            "Prediction: tensor(2, device='cuda:0') Label for Image 74 : tensor(2)\n",
            "Prediction: tensor(8, device='cuda:0') Label for Image 75 : tensor(8)\n",
            "Prediction: tensor(1, device='cuda:0') Label for Image 76 : tensor(1)\n",
            "Prediction: tensor(9, device='cuda:0') Label for Image 77 : tensor(9)\n",
            "Prediction: tensor(3, device='cuda:0') Label for Image 78 : tensor(3)\n",
            "Prediction: tensor(1, device='cuda:0') Label for Image 79 : tensor(1)\n",
            "Prediction: tensor(4, device='cuda:0') Label for Image 80 : tensor(4)\n",
            "Prediction: tensor(1, device='cuda:0') Label for Image 81 : tensor(1)\n",
            "Prediction: tensor(6, device='cuda:0') Label for Image 82 : tensor(6)\n",
            "Prediction: tensor(8, device='cuda:0') Label for Image 83 : tensor(8)\n",
            "Prediction: tensor(4, device='cuda:0') Label for Image 84 : tensor(4)\n",
            "Prediction: tensor(4, device='cuda:0') Label for Image 85 : tensor(4)\n",
            "Prediction: tensor(1, device='cuda:0') Label for Image 86 : tensor(1)\n",
            "Prediction: tensor(9, device='cuda:0') Label for Image 87 : tensor(9)\n",
            "Prediction: tensor(2, device='cuda:0') Label for Image 88 : tensor(2)\n",
            "Prediction: tensor(9, device='cuda:0') Label for Image 89 : tensor(9)\n",
            "Prediction: tensor(7, device='cuda:0') Label for Image 90 : tensor(7)\n",
            "Prediction: tensor(3, device='cuda:0') Label for Image 91 : tensor(3)\n",
            "Prediction: tensor(1, device='cuda:0') Label for Image 92 : tensor(1)\n",
            "Prediction: tensor(7, device='cuda:0') Label for Image 93 : tensor(7)\n",
            "Prediction: tensor(5, device='cuda:0') Label for Image 94 : tensor(5)\n",
            "Prediction: tensor(2, device='cuda:0') Label for Image 95 : tensor(2)\n",
            "Prediction: tensor(5, device='cuda:0') Label for Image 96 : tensor(5)\n",
            "Prediction: tensor(2, device='cuda:0') Label for Image 97 : tensor(2)\n",
            "Prediction: tensor(0, device='cuda:0') Label for Image 98 : tensor(0)\n",
            "Prediction: tensor(8, device='cuda:0') Label for Image 99 : tensor(8)\n"
          ],
          "name": "stdout"
        }
      ]
    }
  ]
}