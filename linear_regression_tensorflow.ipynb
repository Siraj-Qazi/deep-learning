{
 "cells": [
  {
   "cell_type": "code",
   "execution_count": 0,
   "metadata": {
    "colab": {},
    "colab_type": "code",
    "id": "rrP9NGFbhh9-"
   },
   "outputs": [],
   "source": [
    "import tensorflow as tense\n",
    "import numpy as np\n",
    "import matplotlib.pyplot as plt"
   ]
  },
  {
   "cell_type": "code",
   "execution_count": 0,
   "metadata": {
    "colab": {},
    "colab_type": "code",
    "id": "UWlwIU6Nii_v"
   },
   "outputs": [],
   "source": [
    "x_train = np.asarray([14,20,22,30,34,35,40,41,45,46,52])"
   ]
  },
  {
   "cell_type": "code",
   "execution_count": 0,
   "metadata": {
    "colab": {},
    "colab_type": "code",
    "id": "Q8NxGDMCjvT2"
   },
   "outputs": [],
   "source": [
    "y_train=np.asarray([78,84,84,88,78,87,92,108,98,87,80])"
   ]
  },
  {
   "cell_type": "code",
   "execution_count": 0,
   "metadata": {
    "colab": {},
    "colab_type": "code",
    "id": "JpQSWC6gkGDz"
   },
   "outputs": [],
   "source": [
    "plt.scatter(x_train, y_train) \n",
    "plt.xlabel('x') \n",
    "plt.xlabel('y') \n",
    "plt.title(\"Training Data\") \n",
    "plt.show() "
   ]
  },
  {
   "cell_type": "code",
   "execution_count": 0,
   "metadata": {
    "colab": {},
    "colab_type": "code",
    "id": "eloqqweUkQID"
   },
   "outputs": [],
   "source": [
    "x_tf = tense.placeholder(\"float\")\n",
    "y_tf = tense.placeholder(\"float\")"
   ]
  },
  {
   "cell_type": "code",
   "execution_count": 206,
   "metadata": {
    "colab": {
     "base_uri": "https://localhost:8080/",
     "height": 34
    },
    "colab_type": "code",
    "id": "DTh9gjYhvDXJ",
    "outputId": "89d0a886-8e57-41d9-9f58-bd5c109feff0"
   },
   "outputs": [
    {
     "name": "stdout",
     "output_type": "stream",
     "text": [
      "<tf.Variable 'weight_21:0' shape=() dtype=float32_ref>\n"
     ]
    }
   ],
   "source": [
    "W = tense.Variable(np.random.randn(), name=\"weight\")\n",
    "b = tense.Variable(np.random.randn(), name=\"bias\")\n",
    "print(W)"
   ]
  },
  {
   "cell_type": "code",
   "execution_count": 0,
   "metadata": {
    "colab": {},
    "colab_type": "code",
    "id": "e2w6T-vvvZcL"
   },
   "outputs": [],
   "source": [
    "prediction = tense.add(tense.multiply(x_tf, W), b)"
   ]
  },
  {
   "cell_type": "code",
   "execution_count": 0,
   "metadata": {
    "colab": {},
    "colab_type": "code",
    "id": "k_yfviY6vfVC"
   },
   "outputs": [],
   "source": [
    "display_steps = 30\n",
    "learning_rate = 0.008\n",
    "train_epochs = 5000"
   ]
  },
  {
   "cell_type": "code",
   "execution_count": 0,
   "metadata": {
    "colab": {},
    "colab_type": "code",
    "id": "MgYGJLIcrmTx"
   },
   "outputs": [],
   "source": [
    "cost = tense.reduce_sum(tense.pow(prediction-y_tf, 2))/(2*x_train.shape[0])  # x_train.shape[0] is the total number of training examples"
   ]
  },
  {
   "cell_type": "code",
   "execution_count": 0,
   "metadata": {
    "colab": {},
    "colab_type": "code",
    "id": "Oh5viF-Br2yY"
   },
   "outputs": [],
   "source": [
    "optimizer = tense.train.GradientDescentOptimizer(learning_rate).minimize(cost)"
   ]
  },
  {
   "cell_type": "code",
   "execution_count": 0,
   "metadata": {
    "colab": {},
    "colab_type": "code",
    "id": "caizbs7Ws4nl"
   },
   "outputs": [],
   "source": [
    "init = tense.global_variables_initializer()"
   ]
  },
  {
   "cell_type": "code",
   "execution_count": 212,
   "metadata": {
    "colab": {
     "base_uri": "https://localhost:8080/",
     "height": 1000
    },
    "colab_type": "code",
    "id": "QMrMUuYZxfah",
    "outputId": "15f9b075-7d4d-4c4d-da4c-94b9efa6063a"
   },
   "outputs": [
    {
     "name": "stdout",
     "output_type": "stream",
     "text": [
      "Epoch: 0030 cost= 1116.168701172 W= 1.199292 b= 0.8856487\n",
      "Epoch: 0060 cost= 1079.282592773 W= 1.1707063 b= 2.615949\n",
      "Epoch: 0090 cost= 1043.744995117 W= 1.1426672 b= 4.3131604\n",
      "Epoch: 0120 cost= 1009.506225586 W= 1.1151637 b= 5.977911\n",
      "Epoch: 0150 cost= 976.516357422 W= 1.0881869 b= 7.6108284\n",
      "Epoch: 0180 cost= 944.730957031 W= 1.0617257 b= 9.2125025\n",
      "Epoch: 0210 cost= 914.104064941 W= 1.0357704 b= 10.783556\n",
      "Epoch: 0240 cost= 884.592163086 W= 1.0103116 b= 12.324578\n",
      "Epoch: 0270 cost= 856.154968262 W= 0.98533976 b= 13.836122\n",
      "Epoch: 0300 cost= 828.752319336 W= 0.9608452 b= 15.318757\n",
      "Epoch: 0330 cost= 802.345520020 W= 0.9368191 b= 16.773045\n",
      "Epoch: 0360 cost= 776.897644043 W= 0.9132522 b= 18.199537\n",
      "Epoch: 0390 cost= 752.373168945 W= 0.89013594 b= 19.598753\n",
      "Epoch: 0420 cost= 728.738586426 W= 0.8674624 b= 20.971178\n",
      "Epoch: 0450 cost= 705.960937500 W= 0.84522235 b= 22.317348\n",
      "Epoch: 0480 cost= 684.007324219 W= 0.8234077 b= 23.637787\n",
      "Epoch: 0510 cost= 662.847961426 W= 0.8020104 b= 24.93297\n",
      "Epoch: 0540 cost= 642.453674316 W= 0.78102154 b= 26.203402\n",
      "Epoch: 0570 cost= 622.795837402 W= 0.7604342 b= 27.44954\n",
      "Epoch: 0600 cost= 603.846862793 W= 0.74024075 b= 28.671852\n",
      "Epoch: 0630 cost= 585.581176758 W= 0.72043294 b= 29.870806\n",
      "Epoch: 0660 cost= 567.973327637 W= 0.70100504 b= 31.046797\n",
      "Epoch: 0690 cost= 550.999816895 W= 0.68194854 b= 32.200283\n",
      "Epoch: 0720 cost= 534.635986328 W= 0.66325516 b= 33.331776\n",
      "Epoch: 0750 cost= 518.859863281 W= 0.64491946 b= 34.441628\n",
      "Epoch: 0780 cost= 503.649566650 W= 0.6269341 b= 35.530273\n",
      "Epoch: 0810 cost= 488.985839844 W= 0.60929424 b= 36.59801\n",
      "Epoch: 0840 cost= 474.847503662 W= 0.59199125 b= 37.64534\n",
      "Epoch: 0870 cost= 461.214996338 W= 0.57501984 b= 38.67262\n",
      "Epoch: 0900 cost= 448.070068359 W= 0.55837256 b= 39.68026\n",
      "Epoch: 0930 cost= 435.393737793 W= 0.5420438 b= 40.668648\n",
      "Epoch: 0960 cost= 423.169891357 W= 0.52602744 b= 41.638123\n",
      "Epoch: 0990 cost= 411.382019043 W= 0.51031643 b= 42.589073\n",
      "Epoch: 1020 cost= 400.013092041 W= 0.4949066 b= 43.52184\n",
      "Epoch: 1050 cost= 389.048797607 W= 0.4797921 b= 44.436733\n",
      "Epoch: 1080 cost= 378.474212646 W= 0.46496525 b= 45.334164\n",
      "Epoch: 1110 cost= 368.274108887 W= 0.4504223 b= 46.214447\n",
      "Epoch: 1140 cost= 358.435272217 W= 0.43615746 b= 47.077904\n",
      "Epoch: 1170 cost= 348.944763184 W= 0.4221654 b= 47.924843\n",
      "Epoch: 1200 cost= 339.789947510 W= 0.4084407 b= 48.75559\n",
      "Epoch: 1230 cost= 330.957763672 W= 0.39497837 b= 49.570477\n",
      "Epoch: 1260 cost= 322.437866211 W= 0.38177294 b= 50.369766\n",
      "Epoch: 1290 cost= 314.217224121 W= 0.36882004 b= 51.153805\n",
      "Epoch: 1320 cost= 306.285949707 W= 0.35611543 b= 51.922825\n",
      "Epoch: 1350 cost= 298.633605957 W= 0.34365293 b= 52.677155\n",
      "Epoch: 1380 cost= 291.249481201 W= 0.33142933 b= 53.417053\n",
      "Epoch: 1410 cost= 284.123931885 W= 0.319439 b= 54.142826\n",
      "Epoch: 1440 cost= 277.247802734 W= 0.30767804 b= 54.854717\n",
      "Epoch: 1470 cost= 270.612579346 W= 0.2961431 b= 55.552925\n",
      "Epoch: 1500 cost= 264.209442139 W= 0.28482947 b= 56.237736\n",
      "Epoch: 1530 cost= 258.029479980 W= 0.2737318 b= 56.909462\n",
      "Epoch: 1560 cost= 252.064300537 W= 0.26284677 b= 57.56834\n",
      "Epoch: 1590 cost= 246.306884766 W= 0.2521697 b= 58.214603\n",
      "Epoch: 1620 cost= 240.749023438 W= 0.24169697 b= 58.848515\n",
      "Epoch: 1650 cost= 235.383529663 W= 0.23142426 b= 59.47032\n",
      "Epoch: 1680 cost= 230.203659058 W= 0.22134818 b= 60.08023\n",
      "Epoch: 1710 cost= 225.202819824 W= 0.21146436 b= 60.678486\n",
      "Epoch: 1740 cost= 220.374343872 W= 0.20176956 b= 61.26531\n",
      "Epoch: 1770 cost= 215.711944580 W= 0.19226013 b= 61.84092\n",
      "Epoch: 1800 cost= 211.210006714 W= 0.18293245 b= 62.405518\n",
      "Epoch: 1830 cost= 206.862579346 W= 0.17378327 b= 62.959316\n",
      "Epoch: 1860 cost= 202.664154053 W= 0.16480932 b= 63.502514\n",
      "Epoch: 1890 cost= 198.609603882 W= 0.15600644 b= 64.03533\n",
      "Epoch: 1920 cost= 194.692382812 W= 0.14737026 b= 64.55808\n",
      "Epoch: 1950 cost= 190.908737183 W= 0.13889918 b= 65.07084\n",
      "Epoch: 1980 cost= 187.255554199 W= 0.1305934 b= 65.57358\n",
      "Epoch: 2010 cost= 183.726516724 W= 0.122446656 b= 66.066696\n",
      "Epoch: 2040 cost= 180.316909790 W= 0.11445525 b= 66.550415\n",
      "Epoch: 2070 cost= 177.022583008 W= 0.10661706 b= 67.02488\n",
      "Epoch: 2100 cost= 173.840270996 W= 0.098928 b= 67.49026\n",
      "Epoch: 2130 cost= 170.764709473 W= 0.09138689 b= 67.94674\n",
      "Epoch: 2160 cost= 167.792968750 W= 0.083989985 b= 68.39448\n",
      "Epoch: 2190 cost= 164.921157837 W= 0.07673388 b= 68.83367\n",
      "Epoch: 2220 cost= 162.145706177 W= 0.06961723 b= 69.26444\n",
      "Epoch: 2250 cost= 159.462966919 W= 0.06263666 b= 69.68699\n",
      "Epoch: 2280 cost= 156.869705200 W= 0.055787724 b= 70.10153\n",
      "Epoch: 2310 cost= 154.362670898 W= 0.049070425 b= 70.50814\n",
      "Epoch: 2340 cost= 151.939529419 W= 0.04248175 b= 70.90694\n",
      "Epoch: 2370 cost= 149.596878052 W= 0.036019802 b= 71.29808\n",
      "Epoch: 2400 cost= 147.331802368 W= 0.029680887 b= 71.68177\n",
      "Epoch: 2430 cost= 145.141921997 W= 0.023463411 b= 72.0581\n",
      "Epoch: 2460 cost= 143.023818970 W= 0.017364781 b= 72.42726\n",
      "Epoch: 2490 cost= 140.975570679 W= 0.011383077 b= 72.78935\n",
      "Epoch: 2520 cost= 138.994781494 W= 0.005514662 b= 73.14455\n",
      "Epoch: 2550 cost= 137.078689575 W= -0.00024096866 b= 73.49295\n",
      "Epoch: 2580 cost= 135.225570679 W= -0.005886963 b= 73.83469\n",
      "Epoch: 2610 cost= 133.432861328 W= -0.011424675 b= 74.16988\n",
      "Epoch: 2640 cost= 131.698928833 W= -0.016856035 b= 74.49863\n",
      "Epoch: 2670 cost= 130.021087646 W= -0.022183385 b= 74.8211\n",
      "Epoch: 2700 cost= 128.397506714 W= -0.027409662 b= 75.13744\n",
      "Epoch: 2730 cost= 126.826431274 W= -0.032536093 b= 75.44775\n",
      "Epoch: 2760 cost= 125.306457520 W= -0.03756359 b= 75.75205\n",
      "Epoch: 2790 cost= 123.835319519 W= -0.042495295 b= 76.05056\n",
      "Epoch: 2820 cost= 122.411010742 W= -0.04733364 b= 76.34343\n",
      "Epoch: 2850 cost= 121.032661438 W= -0.052078694 b= 76.630646\n",
      "Epoch: 2880 cost= 119.698356628 W= -0.05673294 b= 76.91237\n",
      "Epoch: 2910 cost= 118.406341553 W= -0.061298605 b= 77.18874\n",
      "Epoch: 2940 cost= 117.155761719 W= -0.06577688 b= 77.4598\n",
      "Epoch: 2970 cost= 115.944946289 W= -0.07016931 b= 77.72566\n",
      "Epoch: 3000 cost= 114.772079468 W= -0.0744779 b= 77.98648\n",
      "Epoch: 3030 cost= 113.636734009 W= -0.078704044 b= 78.24226\n",
      "Epoch: 3060 cost= 112.536735535 W= -0.0828496 b= 78.4932\n",
      "Epoch: 3090 cost= 111.471603394 W= -0.08691604 b= 78.73932\n",
      "Epoch: 3120 cost= 110.439544678 W= -0.09090359 b= 78.98071\n",
      "Epoch: 3150 cost= 109.439743042 W= -0.09481671 b= 79.21756\n",
      "Epoch: 3180 cost= 108.471153259 W= -0.09865346 b= 79.449814\n",
      "Epoch: 3210 cost= 107.532775879 W= -0.10241806 b= 79.677666\n",
      "Epoch: 3240 cost= 106.623619080 W= -0.10610923 b= 79.90109\n",
      "Epoch: 3270 cost= 105.742126465 W= -0.10973118 b= 80.12034\n",
      "Epoch: 3300 cost= 104.888122559 W= -0.11328331 b= 80.33534\n",
      "Epoch: 3330 cost= 104.060241699 W= -0.11676852 b= 80.54629\n",
      "Epoch: 3360 cost= 103.257728577 W= -0.12018606 b= 80.75316\n",
      "Epoch: 3390 cost= 102.479629517 W= -0.12353936 b= 80.95613\n",
      "Epoch: 3420 cost= 101.725479126 W= -0.12682715 b= 81.15514\n",
      "Epoch: 3450 cost= 100.993919373 W= -0.13005354 b= 81.35044\n",
      "Epoch: 3480 cost= 100.285079956 W= -0.13321647 b= 81.541885\n",
      "Epoch: 3510 cost= 99.597145081 W= -0.13632062 b= 81.72978\n",
      "Epoch: 3540 cost= 98.930465698 W= -0.13936366 b= 81.91397\n",
      "Epoch: 3570 cost= 98.283340454 W= -0.14235027 b= 82.09475\n",
      "Epoch: 3600 cost= 97.655807495 W= -0.14527865 b= 82.27201\n",
      "Epoch: 3630 cost= 97.046867371 W= -0.14815176 b= 82.44592\n",
      "Epoch: 3660 cost= 96.456031799 W= -0.15097016 b= 82.61652\n",
      "Epoch: 3690 cost= 95.883102417 W= -0.15373318 b= 82.78377\n",
      "Epoch: 3720 cost= 95.326759338 W= -0.1564457 b= 82.947945\n",
      "Epoch: 3750 cost= 94.787071228 W= -0.15910433 b= 83.10888\n",
      "Epoch: 3780 cost= 94.263427734 W= -0.16171248 b= 83.26673\n",
      "Epoch: 3810 cost= 93.754737854 W= -0.16427189 b= 83.42165\n",
      "Epoch: 3840 cost= 93.261413574 W= -0.16678037 b= 83.57349\n",
      "Epoch: 3870 cost= 92.781974792 W= -0.16924264 b= 83.722534\n",
      "Epoch: 3900 cost= 92.316452026 W= -0.17165786 b= 83.86874\n",
      "Epoch: 3930 cost= 91.864761353 W= -0.17402524 b= 84.01204\n",
      "Epoch: 3960 cost= 91.426170349 W= -0.17634836 b= 84.15264\n",
      "Epoch: 3990 cost= 90.999969482 W= -0.17862752 b= 84.290596\n",
      "Epoch: 4020 cost= 90.586204529 W= -0.18086137 b= 84.42582\n",
      "Epoch: 4050 cost= 90.184005737 W= -0.18305466 b= 84.55858\n",
      "Epoch: 4080 cost= 89.793281555 W= -0.18520606 b= 84.6888\n",
      "Epoch: 4110 cost= 89.413909912 W= -0.18731456 b= 84.81643\n",
      "Epoch: 4140 cost= 89.045379639 W= -0.18938364 b= 84.94165\n",
      "Epoch: 4170 cost= 88.687080383 W= -0.19141363 b= 85.064514\n",
      "Epoch: 4200 cost= 88.338790894 W= -0.1934035 b= 85.18498\n",
      "Epoch: 4230 cost= 88.000427246 W= -0.19535543 b= 85.30314\n",
      "Epoch: 4260 cost= 87.671455383 W= -0.1972708 b= 85.419075\n",
      "Epoch: 4290 cost= 87.351318359 W= -0.19915083 b= 85.53288\n",
      "Epoch: 4320 cost= 87.040687561 W= -0.2009923 b= 85.64434\n",
      "Epoch: 4350 cost= 86.738433838 W= -0.20279945 b= 85.75373\n",
      "Epoch: 4380 cost= 86.444358826 W= -0.20457351 b= 85.86111\n",
      "Epoch: 4410 cost= 86.158470154 W= -0.20631278 b= 85.966385\n",
      "Epoch: 4440 cost= 85.880714417 W= -0.20801769 b= 86.06957\n",
      "Epoch: 4470 cost= 85.610374451 W= -0.20968981 b= 86.1708\n",
      "Epoch: 4500 cost= 85.347404480 W= -0.21133208 b= 86.27018\n",
      "Epoch: 4530 cost= 85.091209412 W= -0.21294257 b= 86.36768\n",
      "Epoch: 4560 cost= 84.842384338 W= -0.21452066 b= 86.46321\n",
      "Epoch: 4590 cost= 84.600280762 W= -0.21606961 b= 86.55695\n",
      "Epoch: 4620 cost= 84.364395142 W= -0.21758975 b= 86.64897\n",
      "Epoch: 4650 cost= 84.134925842 W= -0.219081 b= 86.73923\n",
      "Epoch: 4680 cost= 83.911621094 W= -0.22054206 b= 86.82768\n",
      "Epoch: 4710 cost= 83.694572449 W= -0.22197416 b= 86.91437\n",
      "Epoch: 4740 cost= 83.483078003 W= -0.22338122 b= 86.99952\n",
      "Epoch: 4770 cost= 83.276931763 W= -0.22476165 b= 87.083084\n",
      "Epoch: 4800 cost= 83.076377869 W= -0.22611617 b= 87.165054\n",
      "Epoch: 4830 cost= 82.881271362 W= -0.22744197 b= 87.245316\n",
      "Epoch: 4860 cost= 82.691162109 W= -0.22874366 b= 87.32411\n",
      "Epoch: 4890 cost= 82.506042480 W= -0.23001976 b= 87.40137\n",
      "Epoch: 4920 cost= 82.325683594 W= -0.23127319 b= 87.47723\n",
      "Epoch: 4950 cost= 82.150047302 W= -0.23250185 b= 87.5516\n",
      "Epoch: 4980 cost= 81.978675842 W= -0.233709 b= 87.624664\n",
      "Optimization completed.\n",
      "Training cost= 81.86165 W= -0.23453775 b= 87.674835 \n",
      "\n"
     ]
    },
    {
     "data": {
      "image/png": "[encoded data removed]",
      "text/plain": [
       "<Figure size 432x288 with 1 Axes>"
      ]
     },
     "metadata": {
      "tags": []
     },
     "output_type": "display_data"
    }
   ],
   "source": [
    "with tense.Session() as sess:\n",
    "    sess.run(init)\n",
    "\n",
    "    for epoch in range(train_epochs):\n",
    "\n",
    "        if (epoch+1) % display_steps == 0:\n",
    "            c = sess.run(cost, feed_dict={x_tf: x_train, y_tf:y_train})\n",
    "            print(\"Epoch:\", '%04d' % (epoch+1), \"cost=\", \"{:.9f}\".format(c), \\\n",
    "                \"W=\", sess.run(W), \"b=\", sess.run(b))\n",
    "            \n",
    "        for (x, y) in zip(x_train, y_train):\n",
    "            sess.run(optimizer, feed_dict={x_tf: x, y_tf: y})\n",
    "\n",
    "        \n",
    "    print(\"Optimization completed.\")\n",
    "    training_cost = sess.run(cost, feed_dict={x_tf: x_train, y_tf: y_train})\n",
    "    print(\"Training cost=\", training_cost, \"W=\", sess.run(W), \"b=\", sess.run(b), '\\n')\n",
    "\n",
    "    plt.plot(x_train, y_train, 'ro', label='Original data')\n",
    "    plt.plot(x_train, sess.run(W) * x_train + sess.run(b), label='Fitted line')\n",
    "    plt.legend()\n",
    "    plt.show()\n",
    "\n",
    "\n",
    "\n"
   ]
  },
  {
   "cell_type": "code",
   "execution_count": 0,
   "metadata": {
    "colab": {},
    "colab_type": "code",
    "id": "2X5tAPy60sYo"
   },
   "outputs": [],
   "source": []
  }
 ],
 "metadata": {
  "accelerator": "GPU",
  "colab": {
   "collapsed_sections": [],
   "name": "linear-reg.ipynb",
   "provenance": []
  },
  "kernelspec": {
   "display_name": "Python 3",
   "language": "python",
   "name": "python3"
  },
  "language_info": {
   "codemirror_mode": {
    "name": "ipython",
    "version": 3
   },
   "file_extension": ".py",
   "mimetype": "text/x-python",
   "name": "python",
   "nbconvert_exporter": "python",
   "pygments_lexer": "ipython3",
   "version": "3.6.8"
  }
 },
 "nbformat": 4,
 "nbformat_minor": 1
}
